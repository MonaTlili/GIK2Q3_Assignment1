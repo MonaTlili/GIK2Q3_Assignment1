{
 "cells": [
  {
   "cell_type": "code",
   "execution_count": 1,
   "metadata": {},
   "outputs": [],
   "source": [
    "import requests "
   ]
  },
  {
   "cell_type": "code",
   "execution_count": 2,
   "metadata": {},
   "outputs": [],
   "source": [
    "# Misra-Gries Algorithm for Word Count\n",
    "def misra_gries_word_count(words, k):\n",
    "    \"\"\"\n",
    "    Misra-Gries algorithm to count word frequencies approximately.\n",
    "\n",
    "    :param words: List of words to process\n",
    "    :param k: Parameter determining the number of counters (frequency threshold)\n",
    "    :return: Approximate word counts as a dictionary\n",
    "    \"\"\"\n",
    "\n",
    "    counters = {}\n",
    "\n",
    "    # First pass: count words with a maximum of k-1 counters\n",
    "    for word in words:\n",
    "        if word in counters:\n",
    "            counters[word] += 1\n",
    "        elif len(counters) < k - 1:\n",
    "            counters[word] = 1\n",
    "        else:\n",
    "            # Decrement all counters if a new word can't be added\n",
    "            for key in list(counters.keys()):\n",
    "                counters[key] -= 1\n",
    "                if counters[key] == 0:\n",
    "                    del counters[key]\n",
    "\n",
    "    # Second pass: refine the counts for the words in the counters\n",
    "    refined_counts = {word: 0 for word in counters}\n",
    "    for word in words:\n",
    "        if word in refined_counts:\n",
    "            refined_counts[word] += 1\n",
    "\n",
    "    return refined_counts\n"
   ]
  },
  {
   "cell_type": "code",
   "execution_count": 3,
   "metadata": {},
   "outputs": [
    {
     "name": "stdout",
     "output_type": "stream",
     "text": [
      "Approximate Word Counts (Top 20):\n",
      "the: 13862\n",
      "of: 6642\n",
      "and: 5997\n",
      "a: 4549\n",
      "to: 4531\n",
      "in: 3908\n",
      "that: 2691\n",
      "his: 2428\n",
      "with: 1695\n",
      "as: 1600\n",
      "this: 1171\n",
      "by: 1124\n",
      "from: 1072\n",
      "not: 1050\n",
      "you: 789\n",
      "or: 759\n",
      "are: 589\n",
      "which: 559\n",
      "we: 394\n",
      "any: 339\n"
     ]
    }
   ],
   "source": [
    "if __name__ == \"__main__\":\n",
    "    file_url = \"https://raw.githubusercontent.com/MonaTlili/Assignment-MAS/main/Moby_dick/pg2701.txt\"\n",
    "\n",
    "    try:\n",
    "        response = requests.get(file_url)\n",
    "        response.raise_for_status()\n",
    "        moby_dick_text = response.text\n",
    "\n",
    "        words = moby_dick_text.split()\n",
    "        k = 100\n",
    "        word_counts = misra_gries_word_count(words, k)\n",
    "\n",
    "        print(\"Approximate Word Counts (Top 20):\")\n",
    "        sorted_word_counts = sorted(word_counts.items(), key=lambda x: -x[1])\n",
    "        for word, count in sorted_word_counts[:20]:\n",
    "            print(f\"{word}: {count}\")\n",
    "\n",
    "    except requests.RequestException as e:\n",
    "        print(f\"Error fetching the book: {e}\")"
   ]
  }
 ],
 "metadata": {
  "kernelspec": {
   "display_name": "base",
   "language": "python",
   "name": "python3"
  },
  "language_info": {
   "codemirror_mode": {
    "name": "ipython",
    "version": 3
   },
   "file_extension": ".py",
   "mimetype": "text/x-python",
   "name": "python",
   "nbconvert_exporter": "python",
   "pygments_lexer": "ipython3",
   "version": "3.11.5"
  }
 },
 "nbformat": 4,
 "nbformat_minor": 2
}
