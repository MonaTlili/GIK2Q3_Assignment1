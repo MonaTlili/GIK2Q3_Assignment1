{
 "cells": [
  {
   "cell_type": "code",
   "execution_count": 1,
   "metadata": {},
   "outputs": [],
   "source": [
    "\n",
    "import time\n",
    "from collections import Counter \n",
    "import requests "
   ]
  },
  {
   "cell_type": "code",
   "execution_count": 2,
   "metadata": {},
   "outputs": [],
   "source": [
    "# Misra-Gries Algorithm for Word Count\n",
    "def misra_gries_word_count(words, k):\n",
    "    \"\"\"\n",
    "    Misra-Gries algorithm to count word frequencies approximately.\n",
    "\n",
    "    :param words: List of words to process\n",
    "    :param k: Parameter determining the number of counters (frequency threshold)\n",
    "    :return: Approximate word counts as a dictionary\n",
    "    \"\"\"\n",
    "\n",
    "    counters = {}\n",
    "\n",
    "    # First pass: count words with a maximum of k-1 counters\n",
    "    for word in words:\n",
    "        if word in counters:\n",
    "            counters[word] += 1\n",
    "        elif len(counters) < k - 1:\n",
    "            counters[word] = 1\n",
    "        else:\n",
    "            # Decrement all counters if a new word can't be added\n",
    "            for key in list(counters.keys()):\n",
    "                counters[key] -= 1\n",
    "                if counters[key] == 0:\n",
    "                    del counters[key]\n",
    "\n",
    "    # Second pass: refine the counts for the words in the counters\n",
    "    refined_counts = {word: 0 for word in counters}\n",
    "    for word in words:\n",
    "        if word in refined_counts:\n",
    "            refined_counts[word] += 1\n",
    "\n",
    "    return refined_counts\n"
   ]
  },
  {
   "cell_type": "code",
   "execution_count": null,
   "metadata": {},
   "outputs": [],
   "source": [
    "def load_text_from_url(url):\n",
    "  \n",
    "  # Fetch content from txt-files\n",
    "    response = requests.get(url)\n",
    "    response.raise_for_status()  # Raise an error if the request fails\n",
    "    return response.text"
   ]
  },
  {
   "cell_type": "code",
   "execution_count": 3,
   "metadata": {},
   "outputs": [
    {
     "name": "stdout",
     "output_type": "stream",
     "text": [
      "Approximate Word Counts (Top 20):\n",
      "the: 13862\n",
      "of: 6642\n",
      "and: 5997\n",
      "a: 4549\n",
      "to: 4531\n",
      "in: 3908\n",
      "that: 2691\n",
      "his: 2428\n",
      "with: 1695\n",
      "as: 1600\n",
      "this: 1171\n",
      "by: 1124\n",
      "from: 1072\n",
      "not: 1050\n",
      "you: 789\n",
      "or: 759\n",
      "are: 589\n",
      "which: 559\n",
      "we: 394\n",
      "any: 339\n"
     ]
    }
   ],
   "source": [
    "if __name__ == \"__main__\":\n",
    "    \n",
    "    book_urls = [\n",
    "        \"https://raw.githubusercontent.com/MonaTlili/GIK2Q3_Assignment1/main/Around%20the%20World%20in%20Eighty%20Days.txt\",\n",
    "        \"https://raw.githubusercontent.com/MonaTlili/GIK2Q3_Assignment1/main/A%20Journey%20to%20the%20Centre%20of%20the%20Earth.txt\",\n",
    "        \"https://raw.githubusercontent.com/MonaTlili/GIK2Q3_Assignment1/main/Twenty%20Thousand%20Leagues%20under%20the%20Sea.txt\"\n",
    "    ]\n",
    "\n",
    "    try:\n",
    "        k = 100 \n",
    "        combined_counts = Counter()  \n",
    "\n",
    "        # Start timer\n",
    "        start_time = time.perf_counter()\n",
    "\n",
    "        for url in book_urls:\n",
    "            # Fetch and process each book\n",
    "            book_text = load_text_from_url(url)\n",
    "            words = book_text.split()  # Split text from books into words\n",
    "            word_counts = misra_gries_word_count(words, k)  # Misra-Gries\n",
    "            \n",
    "            # Combine word counts for book\n",
    "            combined_counts.update(word_counts)\n",
    "\n",
    "        # Stop timer\n",
    "        end_time = time.perf_counter()\n",
    "        duration = end_time - start_time\n",
    "\n",
    "        # Display the top 20 words\n",
    "        print(\"Approximate Word Counts (Top 20):\")\n",
    "        sorted_word_counts = sorted(combined_counts.items(), key=lambda x: -x[1])\n",
    "        for word, count in sorted_word_counts[:20]:\n",
    "            print(f\"{word}: {count}\")\n",
    "\n",
    "        # Print performance duration\n",
    "        print(f\"\\nSerial Duration: {duration:.6f} seconds\")\n",
    "\n",
    "    except requests.RequestException as e:\n",
    "        print(f\"Error fetching a book: {e}\")\n"
   ]
  }
 ],
 "metadata": {
  "kernelspec": {
   "display_name": "base",
   "language": "python",
   "name": "python3"
  },
  "language_info": {
   "codemirror_mode": {
    "name": "ipython",
    "version": 3
   },
   "file_extension": ".py",
   "mimetype": "text/x-python",
   "name": "python",
   "nbconvert_exporter": "python",
   "pygments_lexer": "ipython3",
   "version": "3.11.5"
  }
 },
 "nbformat": 4,
 "nbformat_minor": 2
}
