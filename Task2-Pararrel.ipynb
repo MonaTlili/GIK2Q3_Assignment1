{
 "cells": [
  {
   "cell_type": "code",
   "execution_count": null,
   "metadata": {
    "vscode": {
     "languageId": "plaintext"
    }
   },
   "outputs": [],
   "source": [
    "# Importing required libraries\n",
    "\n",
    "import time\n",
    "import requests\n",
    "import re\n",
    "from multiprocessing import Pool, cpu_count   "
   ]
  },
  {
   "cell_type": "code",
   "execution_count": null,
   "metadata": {
    "vscode": {
     "languageId": "plaintext"
    }
   },
   "outputs": [],
   "source": [
    "# Downloading the text file from GitHub\n",
    "file_path = 'https://raw.githubusercontent.com/MonaTlili/Assignment-MAS/refs/heads/main/Moby_dick/pg2701.txt'\n",
    "response = requests.get(file_path, timeout=10) # Timeout is counted in seconds\n",
    "sample_text = response.text\n",
    "\n",
    "# Splitting the text into sentences for smaller chunks of data\n",
    "text_cleaned = sample_text.replace('!', '.').replace('?', '.')\n",
    "text_chunks = text_cleaned.split('.')"
   ]
  },
  {
   "cell_type": "code",
   "execution_count": null,
   "metadata": {
    "vscode": {
     "languageId": "plaintext"
    }
   },
   "outputs": [],
   "source": [
    "# Map function to process a chunk of text, clean the text (by removing punctuations/underscores and converting to lowercase) and count word occurrences\n",
    "def map_function(chunk):\n",
    "    word_counts = {}\n",
    "    cleaned_chunk = re.sub(r'[^\\w\\s]', '', chunk.lower())  \n",
    "    cleaned_chunk = re.sub(r'_', '', cleaned_chunk)     \n",
    "    words = cleaned_chunk.split()\n",
    "\n",
    "    for word in words:\n",
    "        word_counts[word] = word_counts.get(word, 0) + 1\n",
    "\n",
    "    return word_counts"
   ]
  },
  {
   "cell_type": "code",
   "execution_count": null,
   "metadata": {
    "vscode": {
     "languageId": "plaintext"
    }
   },
   "outputs": [],
   "source": [
    "# Combine function to merge word counts from multiple map results\n",
    "def combine_results(results):\n",
    "    combined_counts = {}\n",
    "\n",
    "    for result in results:\n",
    "        for word, count in result.items():\n",
    "            combined_counts[word] = combined_counts.get(word, 0) + count\n",
    "\n",
    "    return combined_counts"
   ]
  },
  {
   "cell_type": "code",
   "execution_count": null,
   "metadata": {
    "vscode": {
     "languageId": "plaintext"
    }
   },
   "outputs": [],
   "source": [
    "# Parallel MapReduce implementation\n",
    "def parallel_mapreduce(text_chunks):\n",
    "    \n",
    "    # Create a multiprocessing pool with the number of available CPU cores\n",
    "    with Pool(cpu_count()) as pool:\n",
    "        \n",
    "        # Step 1: Map phase - distribute chunks to multiple processes\n",
    "        map_results = pool.map(map_function, text_chunks)\n",
    "\n",
    "        # Step 2: Shuffle and Reduce phase - aggregate results\n",
    "        final_word_counts = combine_results(map_results)\n",
    "\n",
    "    return final_word_counts"
   ]
  },
  {
   "cell_type": "code",
   "execution_count": null,
   "metadata": {
    "vscode": {
     "languageId": "plaintext"
    }
   },
   "outputs": [],
   "source": [
    "    # Multi-threaded (MapReduce) execution with performance counter instead of time\n",
    "    start_time = time.perf_counter()\n",
    "    parallel_counts = parallel_mapreduce(chunks)\n",
    "    parallel_duration = time.perf_counter() - start_time\n",
    "\n",
    "    print(\"Parallel (MapReduce) Word Count:\")\n",
    "    print(parallel_counts)\n",
    "    print(f\"Parallel Duration: {parallel_duration:.6f} seconds\\n\")\n",
    "\n",
    "    # Performance Summary\n",
    "    print(\"Performance Comparison:\")\n",
    "    print(f\"Single-threaded Time: {single_threaded_duration:.6f} seconds\")\n",
    "    print(f\"Parallel Time: {parallel_duration:.6f} seconds\")\n",
    "    print(f\"Speedup: {single_threaded_duration / parallel_duration:.2f}x (depending on dataset size)\")"
   ]
  }
 ],
 "metadata": {
  "language_info": {
   "name": "python"
  }
 },
 "nbformat": 4,
 "nbformat_minor": 2
}
